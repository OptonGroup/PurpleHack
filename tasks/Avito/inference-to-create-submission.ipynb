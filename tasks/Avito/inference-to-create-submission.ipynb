{
 "cells": [
  {
   "cell_type": "markdown",
   "metadata": {},
   "source": [
    "# Создание submission-файла для задачи определения цвета товара\n",
    "\n",
    "## Предварительные требования (Prerequisites)\n",
    "\n",
    "Для запуска этого ноутбука требуются следующие зависимости:\n",
    "\n",
    "```\n",
    "Python >= 3.10\n",
    "numpy >= 1.24.3\n",
    "pandas >= 2.0.3\n",
    "torch >= 2.0.1\n",
    "torchvision >= 0.15.2\n",
    "timm >= 0.9.7\n",
    "scikit-learn >= 1.3.0\n",
    "tqdm >= 4.66.1\n",
    "Pillow >= 10.0.0\n",
    "```\n",
    "\n",
    "Вы можете установить их с помощью pip:\n",
    "```bash\n",
    "pip install numpy pandas torch torchvision timm scikit-learn tqdm Pillow\n",
    "```\n",
    "\n",
    "Также необходимо иметь:\n",
    "1. Файл с весами модели\n",
    "2. Тестовый датасет с изображениями и метаданными\n",
    "\n",
    "В данном ноутбуке мы создадим submission-файл, содержащий предсказания цвета для всех изображений в тестовом наборе данных."
   ]
  },
  {
   "cell_type": "code",
   "execution_count": null,
   "metadata": {
    "_cell_guid": "035b50af-9d8f-48a4-9d37-6a0e3894556c",
    "_uuid": "f9f1bdcf-985f-43b3-9648-5293bb15a34c",
    "collapsed": false,
    "execution": {
     "iopub.execute_input": "2025-03-14T02:21:36.770203Z",
     "iopub.status.busy": "2025-03-14T02:21:36.769824Z",
     "iopub.status.idle": "2025-03-14T02:21:36.775872Z",
     "shell.execute_reply": "2025-03-14T02:21:36.775192Z",
     "shell.execute_reply.started": "2025-03-14T02:21:36.770172Z"
    },
    "jupyter": {
     "outputs_hidden": false
    },
    "trusted": true
   },
   "outputs": [],
   "source": [
    "import os\n",
    "from tqdm import tqdm\n",
    "import json\n",
    "import pandas as pd\n",
    "import numpy as np\n",
    "import torch\n",
    "import torch.nn as nn\n",
    "from torch.utils.data import Dataset, DataLoader\n",
    "from torchvision import transforms, models\n",
    "import torchvision.transforms.functional as F\n",
    "import random\n",
    "try:\n",
    "    import timm  # Добавим библиотеку timm для эффективных моделей\n",
    "except ImportError:\n",
    "    import subprocess\n",
    "    subprocess.check_call([\"pip\", \"install\", \"timm\"])\n",
    "    import timm\n",
    "from PIL import Image\n",
    "from sklearn.model_selection import train_test_split\n",
    "from sklearn.metrics import precision_recall_fscore_support, accuracy_score\n",
    "import copy\n",
    "import time"
   ]
  },
  // ... existing code ...
}